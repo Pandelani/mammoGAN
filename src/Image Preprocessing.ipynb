{
 "cells": [
  {
   "cell_type": "markdown",
   "metadata": {},
   "source": [
    "# Split Data into Patches\n",
    "\n",
    "### Based on https://arxiv.org/pdf/1707.06978.pdf"
   ]
  },
  {
   "cell_type": "markdown",
   "metadata": {},
   "source": [
    "For this component of the project, I made a local copy of __gs://cbis-ddsm by running (gsutil -m cp -r gs://cbsis-ddsm /home/<USER_NAME>/data)__ within my keras instance.  Change user_name\n",
    "\n",
    "Then you should rename some of the underlying folders to make life easier, and create four folders within data: \n",
    "    - malignant\n",
    "    - benign\n",
    "    - benign_no_callback\n",
    "    - no_tumor"
   ]
  },
  {
   "cell_type": "code",
   "execution_count": 1,
   "metadata": {},
   "outputs": [],
   "source": [
    "%matplotlib inline\n",
    "from PIL import Image\n",
    "import numpy as np\n",
    "import pandas as pd\n",
    "import matplotlib.pyplot as plt\n",
    "import os\n",
    "from skimage.filters import threshold_otsu\n",
    "from skimage.transform import resize\n",
    "from skimage.transform import rotate\n",
    "from skimage.util import view_as_windows\n",
    "from collections import defaultdict\n",
    "import cv2\n",
    "import math"
   ]
  },
  {
   "cell_type": "markdown",
   "metadata": {},
   "source": [
    "## From the paper"
   ]
  },
  {
   "cell_type": "markdown",
   "metadata": {},
   "source": [
    "For the first stage of training, we create a large dataset of image patches sampled from the training images. We enforce that the majority of the patches\n",
    "come from the breast, by first segmenting using Otsu’s method [21]. \n",
    "\n",
    "__Before sampling, we resize the original images with different factors for calcification and\n",
    "mass patches. Instead of resizing to a fixed size, which would cause distortions because the aspect ratio varies over the images in the dataset, or cropping, which\n",
    "could cause a loss of information, we resize such that the resulting image falls within a particular range. We set the target size to 2750x1500 and 1100x600\n",
    "pixels, for the calcification and mass scales, respectively. Given an input image, we calculate a range of allowable resize factors as the min and max resize factors\n",
    "over the two dimensions. That is, given an example of size, say 3000x2000, the range of resize factors for the calcification scale would be [1500/2000 = 0.75 ,\n",
    "2750/3000 = 0.92], from which we sample uniformly.__ \n",
    "\n",
    "For other sources of data augmentation, __we use horizontal flipping, rotation of up to 30◦__\n",
    ", and an additional rescaling by a factor chosen between 0.75 and 1.25. We then __sample patches of size 256x256__. \n",
    "\n",
    "In the first stage of patch classification training, lesion detection\n",
    "without malignancy classification, we create 800K patches for each lesion category, split equally between positive and negative samples. In the second stage,\n",
    "we create 900K patches split equally between normal, benign, and malignant."
   ]
  },
  {
   "cell_type": "markdown",
   "metadata": {},
   "source": [
    "## Utils"
   ]
  },
  {
   "cell_type": "code",
   "execution_count": 2,
   "metadata": {},
   "outputs": [],
   "source": [
    "#%matplotlib inline\n",
    "from PIL import Image\n",
    "import numpy as np\n",
    "import pandas as pd\n",
    "import matplotlib.pyplot as plt\n",
    "import os\n",
    "from skimage.filters import threshold_otsu\n",
    "from skimage.transform import resize\n",
    "from skimage.transform import rotate\n",
    "from skimage.util import view_as_windows\n",
    "from collections import defaultdict\n",
    "import cv2\n",
    "\n",
    "## Steps from https://arxiv.org/pdf/1707.06978.pdf:\n",
    "## Resize calcifications to between 2750x1500 with random uniform sampling of the factors\n",
    "## Resize masses to between  1100x600 with random uniform sampling of the factors\n",
    "## Horizontal flipping \n",
    "## Rotation up to 30 degrees\n",
    "## Use Otsu's segmentationt ot remove all purely black patches\n",
    "\n",
    "###########################################################################################################################\n",
    "# Utils\n",
    "###########################################################################################################################\n",
    "\n",
    "\n",
    "np.random.seed(1234)\n",
    "\n",
    "PATH_TO_FILES = '/home/jlandesman/data/cbis-ddsm/calc_training_full_mammogram_images/'\n",
    "PATH_TO_ROI = '/home/jlandesman/data/cbis-ddsm/calc_training_full_roi_images/'\n",
    "PATH_TO_ROI_CSV_LABELS = '/home/jlandesman/data/cbis-ddsm/calc_case_description_train_set.csv'\n",
    "\n",
    "CALC_TARGET_RESIZE = np.array([2750,1500])\n",
    "MASS_TARGET_RESIZE = np.array([1100, 600])\n",
    "MAX_ROTATE = 30 ## degrees\n",
    "STEP_SIZE = 100 ## Stride for getting windows\n",
    "\n",
    "MASK_CUTOFF = 0 ## If a patch has an average mask value of 0 discard it as it is not in the breast\n",
    "ROI_CUTOFF = 0 ## If an ROI has an average value of zero, label it \"no_tumor\" \n",
    "\n",
    "###################################################################\n",
    "# Read in Files\n",
    "###################################################################\n",
    "def get_im_as_array(file_name, file_type):\n",
    "    '''\n",
    "    Read in an image and yield it as a numpy array\n",
    "    params: \n",
    "        file_name: name of the file\n",
    "        file_type: either 'full' or 'ROI'\n",
    "    \n",
    "    '''\n",
    "    if file_type == 'full':\n",
    "        path = PATH_TO_FILES\n",
    "    elif file_type == 'ROI': ## ROI\n",
    "        path = PATH_TO_ROI\n",
    "    else: \n",
    "        print(\"Enter file type as either 'full' or 'ROI'\")\n",
    "        pass\n",
    "\n",
    "    file_path = os.path.join(path,file_name)\n",
    "    im = Image.open(file_path)\n",
    "    return np.asarray(im)\n",
    "\n",
    "###################################################################\n",
    "# Associate images with labels\n",
    "###################################################################\n",
    "\n",
    "def get_labels(path_to_csv):\n",
    "    '''\n",
    "    Concatenates various components of the named files to a list and returns the file_name and pathology\n",
    "    params:\n",
    "        path_to_csv: path to the CSV with the file list\n",
    "    returns: \n",
    "        a data frame containing the file_name (as an index) and the pathology.  \n",
    "    '''\n",
    "    df = pd.read_csv(path_to_csv)\n",
    "    df['file_name'] = 'Calc-Training_' + df['patient_id'] + '_' + df['side'] + '_' + df['view'] + '_' + df['abn_num'].astype(str) + '_mask.png'\n",
    "    df = df[['file_name', 'pathology']]\n",
    "    df.set_index('file_name', inplace=True)\n",
    "    return df\n",
    "\n",
    "def get_mask_list():\n",
    "    '''\n",
    "    Associate each file with all of its masses and their pathology (benign, malignant, other).\n",
    "    Return a dictionary of {file_name: (mask, pathology)}\n",
    "    '''\n",
    "    mask_list = defaultdict(list)\n",
    "    roi_files = os.listdir(PATH_TO_ROI)\n",
    "    df = get_labels(PATH_TO_ROI_CSV_LABELS)\n",
    "\n",
    "    for file_name in roi_files:\n",
    "        mask_list[file_name[:-11]].append((file_name, df.loc[file_name]['pathology']))\n",
    "    \n",
    "    return mask_list\n",
    "\n",
    "###################################################################\n",
    "# Image transformations\n",
    "###################################################################\n",
    "\n",
    "def get_resize_max_min(im, tumor_type):\n",
    "    '''\n",
    "    Returns the max and min dimensions for resizing per the paper\n",
    "    params:\n",
    "        im = image\n",
    "        tumor_type = either 'CALC' or 'MASS'\n",
    "    returns: \n",
    "        the minimum and the maxiumum dimensions for resizing.  This is the range that is then sampled uniformly.\n",
    "    '''\n",
    "    if tumor_type == 'CALC':\n",
    "        resize_min, resize_max = CALC_TARGET_RESIZE/np.array(im.shape)\n",
    "        \n",
    "    elif tumor_type == 'MASS':\n",
    "        resize_min, resize_max = MASS_TARGET_RESIZE/np.array(im.shape)\n",
    "    \n",
    "    else: \n",
    "        print('Enter either CALC or MASS')\n",
    "        pass\n",
    "    return resize_min, resize_max                                                        \n",
    "\n",
    "def rotate_image(im, rotation_angle):\n",
    "    '''\n",
    "    Rotates the image to a random angle < max_rotate\n",
    "    '''\n",
    "    return rotate(im, rotation_angle)\n",
    "\n",
    "def normalize(im):\n",
    "    '''\n",
    "    Normalize to between 0 and 255\n",
    "    '''\n",
    "    im_normalized = (255*(im - np.max(im))/-np.ptp(im))    \n",
    "    return im_normalized\n",
    "\n",
    "###################################################################\n",
    "# Get patches\n",
    "###################################################################\n",
    "\n",
    "def get_patches(im, step_size = 20, dimensions = [256, 256]):\n",
    "    '''\n",
    "    Return sliding windows along the breast, moving STEP_SIZE pixels at a time.\n",
    "    \n",
    "    IMPORTANT: np.reshape() does not guarantee a copy isn't made - this leads to memory errors\n",
    "    \n",
    "    params:\n",
    "        step_size: the stride by which the window jumps\n",
    "        dimemsions: the dimensions of the patch\n",
    "    '''\n",
    "    patches = view_as_windows(im,dimensions,step=step_size)\n",
    "    patches = patches.reshape([-1, 256, 256])\n",
    "    \n",
    "    return patches\n",
    "\n",
    "def get_zipped_patches(mammogram, roi, step_size, quartile_cutoff = 10, filter_roi=False):\n",
    "    '''\n",
    "    Return a zipped generator of the image and the corresponding ROI\n",
    "    \n",
    "    Looks at each patch and drops bottom 25% by average value (average of the whole image, black = 0)\n",
    "    \n",
    "    '''\n",
    "    mammogram = get_patches(mammogram, step_size)\n",
    "    roi = get_patches(roi, step_size)\n",
    "    \n",
    "    if filter_roi:\n",
    "        # On images with more than one ROI, don't repeatedly save the same regions OUTSIDE that ROI. \n",
    "        print('Filtering with ROI: ', roi_img)\n",
    "        patch_means = np.mean(roi, axis = (1,2))\n",
    "        mask = np.where(patch_means > 0)\n",
    "\n",
    "        ## filter\n",
    "        mammogram = mammogram[mask[0],:,:]\n",
    "        roi = roi[mask[0],:,:]\n",
    "        \n",
    "        print('Mammogram/ ROI shape after filtering: ', mammogram.shape)\n",
    "\n",
    "    else:\n",
    "        print('Patches array shape before optimization: ', mammogram.shape)\n",
    "\n",
    "        ## NEW OPTIMIZATION CODE ATTEMPT\n",
    "        ## Eliminate the bottom quartile_cutoff percent of the image (presumably all black and some of the breast)\n",
    "        patch_means = np.mean(mammogram, axis = (1,2))\n",
    "        percentile_cutoff = np.percentile(patch_means, q = quartile_cutoff)\n",
    "\n",
    "        ## Note mask is GREATER THAN cutoff\n",
    "        mask = np.where(patch_means > percentile_cutoff)\n",
    "\n",
    "        ## Apply mask\n",
    "        mammogram = mammogram[mask[0],:,:]\n",
    "        roi = roi[mask[0],:,:]\n",
    "    \n",
    "    print('Patches array shape after optimization: ', mammogram.shape)\n",
    "    \n",
    "    return zip(mammogram, roi) \n",
    "\n",
    "###################################################################\n",
    "# Main function\n",
    "###################################################################\n",
    "\n",
    "def save_patches(zipped_patches, label, save_file_name):\n",
    "    '''\n",
    "    Main save patches file\n",
    "    '''\n",
    "    \n",
    "    ### Basic logging/ error checking\n",
    "    errors = []\n",
    "    num_original = 0\n",
    "    num_rotate = 0\n",
    "    num_flip = 0\n",
    "    num_resize = 0\n",
    "    num_not_breast = 0\n",
    "    \n",
    "    \n",
    "    ## Recall that zipped_patches = zip(original, roi), where each dim is [-1, 256, 256]\n",
    "    for number, patch in enumerate(zipped_patches):\n",
    "        if patch[0].mean() == MASK_CUTOFF: ## If the mean of the image patch = 0, then its purely black and not helpful\n",
    "            num_not_breast +=1\n",
    "            continue ## Return to start of loop\n",
    "\n",
    "        elif patch[1].mean() > 0: ## If this is in the tumor\n",
    "            if label == 'MALIGNANT':\n",
    "                save_path = '/home/jlandesman/data/patches/calcification/malignant'\n",
    "\n",
    "            elif label == 'BENIGN':\n",
    "                save_path = '/home/jlandesman/data/patches/calcification/benign'\n",
    "\n",
    "            else:\n",
    "                save_path = '/home/jlandesman/data/patches/calcification/benign_no_callback'\n",
    "\n",
    "        else: ## Not in the tumor\n",
    "            save_path = '/home/jlandesman/data/patches/calcification/no_tumor'\n",
    "\n",
    "        file_name = save_file_name + \"_\" + str(number)+ \".png\"\n",
    "        \n",
    "        #try:\n",
    "        ###############\n",
    "        # Save Original\n",
    "        ###############\n",
    "        if patch[0].mean() < 255:\n",
    "            np.save(os.path.join(save_path, file_name), patch[0])\n",
    "            #cv2.imwrite(os.path.join(save_path, file_name), patch[0], [cv2.IMWRITE_PNG_COMPRESSION, 0])\n",
    "            num_original += 1\n",
    "\n",
    "        ##############\n",
    "        # Rotate\n",
    "        ##############\n",
    "        rotation_angle = np.random.randint(low = 0, high = MAX_ROTATE)\n",
    "        im = rotate_image(patch[0], rotation_angle)\n",
    "\n",
    "        if im.mean() < 255:\n",
    "            file_name = save_file_name + \"_\" + \"FLIP_\" + str(number) + \".png\"             \n",
    "            np.save(os.path.join(save_path, file_name), im)\n",
    "            #cv2.imwrite(os.path.join(save_path, file_name), im, [cv2.IMWRITE_PNG_COMPRESSION, 0])\n",
    "            num_rotate += 1\n",
    "\n",
    "        ##############\n",
    "        # Flip\n",
    "        ##############\n",
    "        im = np.fliplr(patch[0])\n",
    "\n",
    "        if im.mean() < 255:\n",
    "            file_name = save_file_name + \"_\" + \"FLIP_\" + str(number) + \".png\"             \n",
    "            np.save(os.path.join(save_path, file_name), im)\n",
    "            #cv2.imwrite(os.path.join(save_path, file_name), im, [cv2.IMWRITE_PNG_COMPRESSION, 0])\n",
    "            num_flip += 1\n",
    "\n",
    "        ##############\n",
    "        # Resize\n",
    "        ##############\n",
    "        resize_min, resize_max = get_resize_max_min(mammogram, 'CALC')\n",
    "\n",
    "        dim_0 = np.random.uniform(low = resize_min, high = resize_max)\n",
    "        dim_1 = np.random.uniform(low = resize_min, high = resize_max)\n",
    "\n",
    "        resize_dims = np.round([dim_0*mammogram.shape[0], dim_1*mammogram.shape[1]])\n",
    "\n",
    "        im = (resize(patch[0], resize_dims))\n",
    "\n",
    "        if im.mean() < 255:\n",
    "            file_name = save_file_name + \"_\" + \"RESIZE_\" + str(number) + \".png\"             \n",
    "            np.save(os.path.join(save_path, file_name), im)\n",
    "            #cv2.imwrite(os.path.join(save_path, file_name), im, [cv2.IMWRITE_PNG_COMPRESSION, 0])\n",
    "            num_resize += 1\n",
    "            \n",
    "#        except:\n",
    "#            errors.append(file_name)\n",
    "    print ('Original: {}, Rotate: {}, Flip: {}, Resize: {}, Not Breast: {}'.format(num_original, num_rotate, num_flip, num_resize, num_not_breast))\n",
    "    print (len(errors))"
   ]
  },
  {
   "cell_type": "markdown",
   "metadata": {},
   "source": [
    "## Pseudocode"
   ]
  },
  {
   "cell_type": "markdown",
   "metadata": {},
   "source": [
    "for image in list_of_images \n",
    "\n",
    "    OPEN Image\n",
    "        GET_patches\n",
    "        if PATCH == 0, discard.  else:\n",
    "\n",
    "    for ROI  in Image:\n",
    "        OPEN ROI\n",
    "        filter_patches:\n",
    "            malignant\n",
    "            benign\n",
    "            benign_no_callback\n",
    "            and no_tumor\n",
    "            \n",
    "        save_original\n",
    "        \n",
    "        ROTATE Image\n",
    "        save_patches\n",
    "        \n",
    "        FLIP IMAGE (horizontal)\n",
    "        save_patches\n",
    "        \n",
    "        RESIZE IMAGE\n",
    "        save_patches"
   ]
  },
  {
   "cell_type": "markdown",
   "metadata": {},
   "source": [
    "## Try with two files below to make sure things are running"
   ]
  },
  {
   "cell_type": "code",
   "execution_count": null,
   "metadata": {},
   "outputs": [
    {
     "name": "stdout",
     "output_type": "stream",
     "text": [
      "Image name: Calc-Training_P_00410_RIGHT_CC, Number of ROIS: 1 \n",
      "Patches array shape before optimization:  (7260, 256, 256)\n",
      "Patches array shape after optimization:  (5445, 256, 256)\n"
     ]
    },
    {
     "name": "stderr",
     "output_type": "stream",
     "text": [
      "/usr/local/lib/python3.5/dist-packages/skimage/transform/_warps.py:84: UserWarning: The default mode, 'constant', will be changed to 'reflect' in skimage 0.15.\n",
      "  warn(\"The default mode, 'constant', will be changed to 'reflect' in \"\n"
     ]
    },
    {
     "name": "stdout",
     "output_type": "stream",
     "text": [
      "Original: 4576, Rotate: 4576, Flip: 4576, Resize: 4573, Not Breast: 0\n",
      "872\n",
      "Image name: Calc-Training_P_00452_LEFT_CC, Number of ROIS: 1 \n",
      "Patches array shape before optimization:  (5104, 256, 256)\n",
      "Patches array shape after optimization:  (2893, 256, 256)\n"
     ]
    }
   ],
   "source": [
    "##############################\n",
    "## RUN \n",
    "#############################\n",
    "\n",
    "\n",
    "## Get dictionary of {mammogram_file_name: (ROI_file, label)}\n",
    "file_list = get_mask_list()\n",
    "\n",
    "for mammogram_img in list(file_list.keys())[0:2]:\n",
    "    print(\"Image name: {}, Number of ROIS: {} \".format(mammogram_img, len(file_list[mammogram_img])))\n",
    "\n",
    "    \n",
    "    ## Get images as np array\n",
    "    mammogram = get_im_as_array(mammogram_img, 'full')\n",
    "        \n",
    "    for roi_num, roi_img in enumerate(file_list[mammogram_img]):\n",
    "        \n",
    "        ## Get ROI\n",
    "        roi = get_im_as_array(roi_img[0], 'ROI')\n",
    "        \n",
    "        ## Get label\n",
    "        label = roi_img[1]\n",
    "        data_for_saving = '\\n' + 'Image Name: ', mammogram_img, 'ROI_name: ', roi_img, 'label: ', label\n",
    "        with open('logging_file.csv', 'a') as logging_file:\n",
    "            logging_file.write(str(data_for_saving))\n",
    "        \n",
    "        print('label = ', label)\n",
    "                        \n",
    "        if roi_num == 0: ## Run through original image\n",
    "            zipped_patches = get_zipped_patches(mammogram, roi, step_size = STEP_SIZE,  filter_roi = False)\n",
    "            save_patches(zipped_patches,label, mammogram_img) \n",
    "\n",
    "        \n",
    "        else: ### Dealing with images that have multiple ROIs - only look at the tumor sections\n",
    "            zipped_patches = get_zipped_patches(mammogram, roi, step_size = STEP_SIZE, filter_roi = True)\n",
    "            save_patches(zipped_patches,label, mammogram_img) \n",
    "            \n",
    "                    \n",
    "        ## Memory Management\n",
    "        del(zipped_patches) "
   ]
  },
  {
   "cell_type": "markdown",
   "metadata": {},
   "source": [
    "# OLD CODE -- IGNORE BELOW"
   ]
  },
  {
   "cell_type": "code",
   "execution_count": 4,
   "metadata": {},
   "outputs": [],
   "source": [
    "file_list = get_mask_list()"
   ]
  },
  {
   "cell_type": "code",
   "execution_count": 5,
   "metadata": {},
   "outputs": [],
   "source": [
    "mammogram = get_im_as_array(list(file_list.keys())[0], 'full')"
   ]
  },
  {
   "cell_type": "code",
   "execution_count": 6,
   "metadata": {},
   "outputs": [],
   "source": [
    "roi = get_im_as_array(list(file_list.values())[0][0][0], 'ROI')"
   ]
  },
  {
   "cell_type": "code",
   "execution_count": 7,
   "metadata": {},
   "outputs": [],
   "source": [
    "s = get_patches(mammogram)"
   ]
  },
  {
   "cell_type": "code",
   "execution_count": 8,
   "metadata": {},
   "outputs": [
    {
     "data": {
      "text/plain": [
       "(27666, 256, 256)"
      ]
     },
     "execution_count": 8,
     "metadata": {},
     "output_type": "execute_result"
    }
   ],
   "source": [
    "s.shape"
   ]
  },
  {
   "cell_type": "code",
   "execution_count": 9,
   "metadata": {},
   "outputs": [
    {
     "data": {
      "text/plain": [
       "(256, 256)"
      ]
     },
     "execution_count": 9,
     "metadata": {},
     "output_type": "execute_result"
    }
   ],
   "source": [
    "s[0].shape"
   ]
  },
  {
   "cell_type": "code",
   "execution_count": 10,
   "metadata": {},
   "outputs": [
    {
     "data": {
      "text/plain": [
       "<matplotlib.image.AxesImage at 0x7fdca2a8dac8>"
      ]
     },
     "execution_count": 10,
     "metadata": {},
     "output_type": "execute_result"
    },
    {
     "data": {
      "image/png": "[encoded data removed]",
      "text/plain": [
       "<matplotlib.figure.Figure at 0x7fdca2acf320>"
      ]
     },
     "metadata": {},
     "output_type": "display_data"
    }
   ],
   "source": [
    "plt.imshow(s[23000])"
   ]
  },
  {
   "cell_type": "code",
   "execution_count": 11,
   "metadata": {},
   "outputs": [],
   "source": [
    "x = rotate(s[23000], 30)"
   ]
  },
  {
   "cell_type": "code",
   "execution_count": 13,
   "metadata": {},
   "outputs": [
    {
     "data": {
      "text/plain": [
       "<matplotlib.image.AxesImage at 0x7fdca11a8be0>"
      ]
     },
     "execution_count": 13,
     "metadata": {},
     "output_type": "execute_result"
    },
    {
     "data": {
      "image/png": "[encoded data removed]",
      "text/plain": [
       "<matplotlib.figure.Figure at 0x7fdca11dc8d0>"
      ]
     },
     "metadata": {},
     "output_type": "display_data"
    }
   ],
   "source": [
    "plt.imshow(x)"
   ]
  },
  {
   "cell_type": "code",
   "execution_count": 59,
   "metadata": {},
   "outputs": [
    {
     "name": "stdout",
     "output_type": "stream",
     "text": [
      "Patches array shape before optimization:  (4794, 256, 256)\n",
      "Patches array shape after optimization:  (3549, 256, 256)\n"
     ]
    }
   ],
   "source": [
    "zipped_patches = get_zipped_patches(mammogram, roi, step_size = STEP_SIZE)"
   ]
  },
  {
   "cell_type": "code",
   "execution_count": 50,
   "metadata": {},
   "outputs": [],
   "source": [
    "x = np.array(list(zipped_patches))"
   ]
  },
  {
   "cell_type": "code",
   "execution_count": 15,
   "metadata": {},
   "outputs": [
    {
     "data": {
      "text/plain": [
       "True"
      ]
     },
     "execution_count": 15,
     "metadata": {},
     "output_type": "execute_result"
    }
   ],
   "source": [
    "cv2.imwrite('/home/jlandesman/test.png', x)"
   ]
  },
  {
   "cell_type": "code",
   "execution_count": 8,
   "metadata": {},
   "outputs": [
    {
     "name": "stdout",
     "output_type": "stream",
     "text": [
      "0 ('Calc-Training_P_00559_RIGHT_MLO_1_mask.png', 'MALIGNANT')\n",
      "1 ('Calc-Training_P_00559_RIGHT_MLO_2_mask.png', 'MALIGNANT')\n"
     ]
    }
   ],
   "source": [
    "im - "
   ]
  },
  {
   "cell_type": "code",
   "execution_count": 51,
   "metadata": {},
   "outputs": [
    {
     "ename": "FileNotFoundError",
     "evalue": "[Errno 2] No such file or directory: '/home/jlandesman/data/cbis-ddsm/calc_training_full_mammogram_images/Calc-Training_P_00502_LEFT_CC_1_mask.png'",
     "output_type": "error",
     "traceback": [
      "\u001b[0;31m---------------------------------------------------------------------------\u001b[0m",
      "\u001b[0;31mFileNotFoundError\u001b[0m                         Traceback (most recent call last)",
      "\u001b[0;32m<ipython-input-51-0511602c9ab1>\u001b[0m in \u001b[0;36m<module>\u001b[0;34m()\u001b[0m\n\u001b[0;32m----> 1\u001b[0;31m \u001b[0mim\u001b[0m \u001b[0;34m=\u001b[0m \u001b[0mImage\u001b[0m\u001b[0;34m.\u001b[0m\u001b[0mopen\u001b[0m\u001b[0;34m(\u001b[0m\u001b[0mos\u001b[0m\u001b[0;34m.\u001b[0m\u001b[0mpath\u001b[0m\u001b[0;34m.\u001b[0m\u001b[0mjoin\u001b[0m\u001b[0;34m(\u001b[0m\u001b[0mPATH_TO_FILES\u001b[0m\u001b[0;34m,\u001b[0m\u001b[0;34m'Calc-Training_P_00502_LEFT_CC_1_mask.png'\u001b[0m\u001b[0;34m)\u001b[0m\u001b[0;34m)\u001b[0m\u001b[0;34m\u001b[0m\u001b[0m\n\u001b[0m",
      "\u001b[0;32m/usr/local/lib/python3.5/dist-packages/PIL/Image.py\u001b[0m in \u001b[0;36mopen\u001b[0;34m(fp, mode)\u001b[0m\n\u001b[1;32m   2528\u001b[0m \u001b[0;34m\u001b[0m\u001b[0m\n\u001b[1;32m   2529\u001b[0m     \u001b[0;32mif\u001b[0m \u001b[0mfilename\u001b[0m\u001b[0;34m:\u001b[0m\u001b[0;34m\u001b[0m\u001b[0m\n\u001b[0;32m-> 2530\u001b[0;31m         \u001b[0mfp\u001b[0m \u001b[0;34m=\u001b[0m \u001b[0mbuiltins\u001b[0m\u001b[0;34m.\u001b[0m\u001b[0mopen\u001b[0m\u001b[0;34m(\u001b[0m\u001b[0mfilename\u001b[0m\u001b[0;34m,\u001b[0m \u001b[0;34m\"rb\"\u001b[0m\u001b[0;34m)\u001b[0m\u001b[0;34m\u001b[0m\u001b[0m\n\u001b[0m\u001b[1;32m   2531\u001b[0m         \u001b[0mexclusive_fp\u001b[0m \u001b[0;34m=\u001b[0m \u001b[0;32mTrue\u001b[0m\u001b[0;34m\u001b[0m\u001b[0m\n\u001b[1;32m   2532\u001b[0m \u001b[0;34m\u001b[0m\u001b[0m\n",
      "\u001b[0;31mFileNotFoundError\u001b[0m: [Errno 2] No such file or directory: '/home/jlandesman/data/cbis-ddsm/calc_training_full_mammogram_images/Calc-Training_P_00502_LEFT_CC_1_mask.png'"
     ]
    }
   ],
   "source": [
    "im = Image.open(os.path.join(PATH_TO_FILES,'Calc-Training_P_00502_LEFT_CC_1_mask.png'))"
   ]
  },
  {
   "cell_type": "code",
   "execution_count": null,
   "metadata": {
    "scrolled": true
   },
   "outputs": [],
   "source": [
    "im = get_im_as_array('Calc-Training_P_02270_RIGHT_MLO', 'full')\n",
    "plt.imshow(im)"
   ]
  },
  {
   "cell_type": "code",
   "execution_count": 4,
   "metadata": {},
   "outputs": [],
   "source": [
    "with open('test_file.csv', 'a') as f:\n",
    "    f.writelines(\"\\ntest_line_4\\n\")"
   ]
  },
  {
   "cell_type": "markdown",
   "metadata": {},
   "source": [
    "### Open up each file and its masks"
   ]
  },
  {
   "cell_type": "code",
   "execution_count": null,
   "metadata": {},
   "outputs": [],
   "source": [
    "mammogram = get_im_as_array(list(file_list.keys())[0], 'full')\n",
    "roi = get_im_as_array(list(file_list.values())[0][0][0], 'ROI')\n",
    "\n",
    "mammogram = get_patches(mammogram)\n",
    "roi = get_patches(roi)\n",
    "\n",
    "## NEW OPTIMIZATION CODE ATTEMPT\n",
    "## Eliminate the bottom 25% percent of the image (presumably all black and some of the breast)\n",
    "test = np.mean(mammogram, axis = (1,2))\n",
    "\n",
    "print(test.shape)\n",
    "\n",
    "\n",
    "# patch_means = np.mean(np.array([mam[0] for mam in mammogram]), axis = (1,2))\n",
    "# percentile_cutoff = np.percentile(patch_means, q = 25)\n",
    "\n",
    "# ## Note mask is GREATER THAN cutoff\n",
    "# mask = np.where(mean_score > percentile_cutoff)\n",
    "\n",
    "# ## Apply mask\n",
    "# mammogram = mammogram[mask[0],:,:]\n",
    "# roi = roi[mask[0],:,:]\n",
    "\n",
    "\n",
    "# roi = roi/255 ## Normalize to between 0-1\n",
    "\n",
    "# label = list(file_list.values())[0][0][1]\n",
    "# label"
   ]
  },
  {
   "cell_type": "markdown",
   "metadata": {},
   "source": [
    "### Get the Otsu's Mask Segementation of the image"
   ]
  },
  {
   "cell_type": "code",
   "execution_count": null,
   "metadata": {},
   "outputs": [],
   "source": [
    "mask = get_mask(mammogram)\n",
    "mask = mask/255 ## Normalize to between 0/1"
   ]
  },
  {
   "cell_type": "markdown",
   "metadata": {},
   "source": [
    "### Visualization"
   ]
  },
  {
   "cell_type": "code",
   "execution_count": null,
   "metadata": {},
   "outputs": [],
   "source": [
    "fig = plt.figure()\n",
    "a=fig.add_subplot(1,3,1)\n",
    "plt.imshow(mammogram)\n",
    "\n",
    "a=fig.add_subplot(1,3,2)\n",
    "plt.imshow(roi)\n",
    "\n",
    "a=fig.add_subplot(1,3,3)\n",
    "plt.imshow(mask)"
   ]
  },
  {
   "cell_type": "markdown",
   "metadata": {},
   "source": [
    "### For each image, we want to: \n",
    "* Preprocess the image\n",
    "* Divide into patches\n",
    "* Check if each patch is largely in the breast. If not, discard it.\n",
    "* Check if each patch is in the ROI\n",
    "* Save the image into an appropriate folder either \"benign, malignant, benign_without_callback, or no_tumor\n",
    "\n",
    "The strategy for checking whether each patch is in the breast or in the ROI is to look at a mean value of the ROI and the Otsu masks and determine a threshold for cutting off an image"
   ]
  },
  {
   "cell_type": "code",
   "execution_count": null,
   "metadata": {},
   "outputs": [],
   "source": [
    "def get_zipped_patches():\n",
    "    return zip(get_patches(mammogram), get_patches(roi), get_patches(mask)) \n",
    "\n",
    "mean_roi = np.array([patch[1].mean() for patch in get_zipped_patches()])\n",
    "mean_mask = np.array([patch[2].mean() for patch in get_zipped_patches()])\n",
    "\n",
    "\n",
    "fig = plt.figure()\n",
    "a=fig.add_subplot(1,2,1)\n",
    "plt.hist(mean_roi)\n",
    "plt.title('Distribution of ROI avg')\n",
    "\n",
    "a=fig.add_subplot(1,2,2)\n",
    "plt.hist(mean_mask)\n",
    "plt.title('Distribution of MASK avg')"
   ]
  },
  {
   "cell_type": "markdown",
   "metadata": {},
   "source": [
    "### Cutoff threshold\n",
    "\n",
    "It seems for this sample image that cutting off at zero will eliminate most of the ROI (this is a large ROI) and 12% of the mask.  If this does not work, this is a key threshold to change in the future to avoid a lot of meaningless patches.  These values are stored in __MASK_CUTOFF__ and __ROI_CUTOFF__ above."
   ]
  },
  {
   "cell_type": "code",
   "execution_count": null,
   "metadata": {},
   "outputs": [],
   "source": [
    "from __future__ import division\n",
    "percent_roi_not_equal_zero = len(mean_roi[mean_roi > 0])/mean_roi.shape[0]\n",
    "percent_mask_not_equal_zero = len(mean_mask[mean_mask>0])/mean_mask.shape[0]\n",
    "\n",
    "print('Percent of ROI != 0 {}'.format(percent_roi_not_equal_zero))\n",
    "print('Percent of Mask != 0 {}'.format(percent_mask_not_equal_zero))"
   ]
  },
  {
   "cell_type": "code",
   "execution_count": null,
   "metadata": {},
   "outputs": [],
   "source": [
    "print(get_resize_dims(mammogram), get_resize_dims(roi, not_random = False), get_resize_dims(mask, not_random = False))"
   ]
  },
  {
   "cell_type": "markdown",
   "metadata": {},
   "source": [
    "rotation_angle = np.random.randint(low = 0, high = MAX_ROTATE)"
   ]
  },
  {
   "cell_type": "markdown",
   "metadata": {},
   "source": [
    "## Old functions previously in utils"
   ]
  },
  {
   "cell_type": "code",
   "execution_count": null,
   "metadata": {},
   "outputs": [],
   "source": [
    "# def get_resize_dims(im, dim_0, dim_1):\n",
    "#     '''\n",
    "#     Uniformly choose between resize_min and resize_max dimesnions \n",
    "#     Default is the \"second resizing\" mentioned in the paper above\n",
    "#     Use random to determine if we want a new randomization or to preserve the last one\n",
    "#     or to make sure if the masks and images are identical\n",
    "#     '''\n",
    "#     if not_random:\n",
    "#         np.random.seed(1234)\n",
    "    \n",
    "#     dim_0 = np.random.uniform(low = resize_min, high = resize_max)\n",
    "    \n",
    "#     if not_random:\n",
    "#         np.random.seed(1234)\n",
    "    \n",
    "#     dim_1 = np.random.uniform(low = resize_min, high = resize_max)\n",
    "#     return np.round([dim_0*im.shape[0], dim_1*im.shape[1]])\n",
    "\n",
    "\n",
    "# def get_mask(im):\n",
    "#     '''\n",
    "#     Return OTSU's threshold mask. For use to make sure that the image patches are within the breast, not the empty space outside \n",
    "#     '''\n",
    "#     ## OTSU's threshold\n",
    "#     thresh = threshold_otsu(im)\n",
    "#     binary = im >= thresh\n",
    "#     return(binary)\n",
    "\n",
    "#     mask = get_mask(mammogram)\n",
    "#     mask = mask/255 ## Normalize to between 0/1\n"
   ]
  },
  {
   "cell_type": "code",
   "execution_count": 80,
   "metadata": {},
   "outputs": [],
   "source": [
    "j = os.listdir('/home/jlandesman/data/patches/calcification/no_tumor')"
   ]
  },
  {
   "cell_type": "code",
   "execution_count": 53,
   "metadata": {},
   "outputs": [
    {
     "data": {
      "text/plain": [
       "['Calc-Training_P_01297_LEFT_MLO_FLIP_219.png',\n",
       " 'Calc-Training_P_00008_RIGHT_CC_913.png',\n",
       " 'Calc-Training_P_00882_LEFT_CC_FLIP_191.png',\n",
       " 'Calc-Training_P_00882_LEFT_CC_FLIP_175.png',\n",
       " 'Calc-Training_P_00008_RIGHT_CC_603.png']"
      ]
     },
     "execution_count": 53,
     "metadata": {},
     "output_type": "execute_result"
    }
   ],
   "source": [
    "j[0:5]"
   ]
  },
  {
   "cell_type": "code",
   "execution_count": 84,
   "metadata": {},
   "outputs": [],
   "source": [
    "x = np.load('/home/jlandesman/data/patches/calcification/no_tumor/'+j[1])"
   ]
  },
  {
   "cell_type": "code",
   "execution_count": 85,
   "metadata": {},
   "outputs": [
    {
     "data": {
      "text/plain": [
       "<matplotlib.image.AxesImage at 0x7f858891fe80>"
      ]
     },
     "execution_count": 85,
     "metadata": {},
     "output_type": "execute_result"
    },
    {
     "data": {
      "image/png": "[encoded data removed]",
      "text/plain": [
       "<matplotlib.figure.Figure at 0x7f8588a2f0b8>"
      ]
     },
     "metadata": {},
     "output_type": "display_data"
    }
   ],
   "source": [
    "plt.imshow(x)"
   ]
  },
  {
   "cell_type": "code",
   "execution_count": null,
   "metadata": {},
   "outputs": [],
   "source": []
  }
 ],
 "metadata": {
  "kernelspec": {
   "display_name": "Python 3",
   "language": "python",
   "name": "python3"
  },
  "language_info": {
   "codemirror_mode": {
    "name": "ipython",
    "version": 3
   },
   "file_extension": ".py",
   "mimetype": "text/x-python",
   "name": "python",
   "nbconvert_exporter": "python",
   "pygments_lexer": "ipython3",
   "version": "3.5.2"
  }
 },
 "nbformat": 4,
 "nbformat_minor": 2
}
