{
 "cells": [
  {
   "cell_type": "code",
   "execution_count": 1,
   "metadata": {},
   "outputs": [],
   "source": [
    "import pandas as pd"
   ]
  },
  {
   "cell_type": "code",
   "execution_count": 45,
   "metadata": {},
   "outputs": [],
   "source": [
    "mias_mini = pd.read_csv(\"~/data/mias_mini/mias-mini-meta.csv\")"
   ]
  },
  {
   "cell_type": "code",
   "execution_count": 46,
   "metadata": {},
   "outputs": [
    {
     "data": {
      "text/html": [
       "<div>\n",
       "<style>\n",
       "    .dataframe thead tr:only-child th {\n",
       "        text-align: right;\n",
       "    }\n",
       "\n",
       "    .dataframe thead th {\n",
       "        text-align: left;\n",
       "    }\n",
       "\n",
       "    .dataframe tbody tr th {\n",
       "        vertical-align: top;\n",
       "    }\n",
       "</style>\n",
       "<table border=\"1\" class=\"dataframe\">\n",
       "  <thead>\n",
       "    <tr style=\"text-align: right;\">\n",
       "      <th></th>\n",
       "      <th>ref_num</th>\n",
       "      <th>background_tissue_type</th>\n",
       "      <th>abnormaility_class</th>\n",
       "      <th>severity</th>\n",
       "      <th>center_x</th>\n",
       "      <th>center_y</th>\n",
       "      <th>radius</th>\n",
       "    </tr>\n",
       "  </thead>\n",
       "  <tbody>\n",
       "    <tr>\n",
       "      <th>229</th>\n",
       "      <td>mdb226</td>\n",
       "      <td>D</td>\n",
       "      <td>CALC</td>\n",
       "      <td>B</td>\n",
       "      <td>287</td>\n",
       "      <td>610</td>\n",
       "      <td>7.0</td>\n",
       "    </tr>\n",
       "    <tr>\n",
       "      <th>230</th>\n",
       "      <td>mdb226</td>\n",
       "      <td>D</td>\n",
       "      <td>CALC</td>\n",
       "      <td>B</td>\n",
       "      <td>329</td>\n",
       "      <td>550</td>\n",
       "      <td>25.0</td>\n",
       "    </tr>\n",
       "    <tr>\n",
       "      <th>231</th>\n",
       "      <td>mdb226</td>\n",
       "      <td>D</td>\n",
       "      <td>CALC</td>\n",
       "      <td>B</td>\n",
       "      <td>531</td>\n",
       "      <td>721</td>\n",
       "      <td>8.0</td>\n",
       "    </tr>\n",
       "  </tbody>\n",
       "</table>\n",
       "</div>"
      ],
      "text/plain": [
       "    ref_num background_tissue_type abnormaility_class severity center_x  \\\n",
       "229  mdb226                      D               CALC        B      287   \n",
       "230  mdb226                      D               CALC        B      329   \n",
       "231  mdb226                      D               CALC        B      531   \n",
       "\n",
       "    center_y  radius  \n",
       "229      610     7.0  \n",
       "230      550    25.0  \n",
       "231      721     8.0  "
      ]
     },
     "execution_count": 46,
     "metadata": {},
     "output_type": "execute_result"
    }
   ],
   "source": [
    "mias_mini[mias_mini['ref_num']== \"mdb226\"]"
   ]
  },
  {
   "cell_type": "code",
   "execution_count": 49,
   "metadata": {},
   "outputs": [
    {
     "data": {
      "text/plain": [
       "mdb069    1\n",
       "mdb064    1\n",
       "mdb055    1\n",
       "mdb056    1\n",
       "mdb057    1\n",
       "Name: ref_num, dtype: int64"
      ]
     },
     "execution_count": 49,
     "metadata": {},
     "output_type": "execute_result"
    }
   ],
   "source": [
    "mias_mini['ref_num'].value_counts().head(5)"
   ]
  },
  {
   "cell_type": "code",
   "execution_count": 15,
   "metadata": {},
   "outputs": [
    {
     "data": {
      "text/plain": [
       "NORM    209\n",
       "CALC     28\n",
       "CIRC     25\n",
       "ARCH     19\n",
       "SPIC     19\n",
       "ASYM     15\n",
       "MISC     15\n",
       "Name: abnormaility_class, dtype: int64"
      ]
     },
     "execution_count": 15,
     "metadata": {},
     "output_type": "execute_result"
    }
   ],
   "source": [
    "mias_mini['abnormaility_class'].value_counts()"
   ]
  },
  {
   "cell_type": "code",
   "execution_count": 48,
   "metadata": {},
   "outputs": [],
   "source": [
    "mias_mini = mias_mini.drop_duplicates('ref_num')"
   ]
  },
  {
   "cell_type": "code",
   "execution_count": 50,
   "metadata": {},
   "outputs": [],
   "source": [
    "mias_mini.reset_index(drop=True, inplace =True)"
   ]
  },
  {
   "cell_type": "code",
   "execution_count": 51,
   "metadata": {},
   "outputs": [
    {
     "data": {
      "text/html": [
       "<div>\n",
       "<style>\n",
       "    .dataframe thead tr:only-child th {\n",
       "        text-align: right;\n",
       "    }\n",
       "\n",
       "    .dataframe thead th {\n",
       "        text-align: left;\n",
       "    }\n",
       "\n",
       "    .dataframe tbody tr th {\n",
       "        vertical-align: top;\n",
       "    }\n",
       "</style>\n",
       "<table border=\"1\" class=\"dataframe\">\n",
       "  <thead>\n",
       "    <tr style=\"text-align: right;\">\n",
       "      <th></th>\n",
       "      <th>ref_num</th>\n",
       "      <th>background_tissue_type</th>\n",
       "      <th>abnormaility_class</th>\n",
       "      <th>severity</th>\n",
       "      <th>center_x</th>\n",
       "      <th>center_y</th>\n",
       "      <th>radius</th>\n",
       "    </tr>\n",
       "  </thead>\n",
       "  <tbody>\n",
       "    <tr>\n",
       "      <th>225</th>\n",
       "      <td>mdb226</td>\n",
       "      <td>D</td>\n",
       "      <td>CALC</td>\n",
       "      <td>B</td>\n",
       "      <td>287</td>\n",
       "      <td>610</td>\n",
       "      <td>7.0</td>\n",
       "    </tr>\n",
       "  </tbody>\n",
       "</table>\n",
       "</div>"
      ],
      "text/plain": [
       "    ref_num background_tissue_type abnormaility_class severity center_x  \\\n",
       "225  mdb226                      D               CALC        B      287   \n",
       "\n",
       "    center_y  radius  \n",
       "225      610     7.0  "
      ]
     },
     "execution_count": 51,
     "metadata": {},
     "output_type": "execute_result"
    }
   ],
   "source": [
    "mias_mini[mias_mini['ref_num']=='mdb226']"
   ]
  },
  {
   "cell_type": "code",
   "execution_count": 52,
   "metadata": {},
   "outputs": [
    {
     "data": {
      "text/plain": [
       "(322, 7)"
      ]
     },
     "execution_count": 52,
     "metadata": {},
     "output_type": "execute_result"
    }
   ],
   "source": [
    "mias_mini.shape"
   ]
  },
  {
   "cell_type": "code",
   "execution_count": 53,
   "metadata": {},
   "outputs": [
    {
     "data": {
      "text/plain": [
       "NORM    209\n",
       "CALC     23\n",
       "CIRC     23\n",
       "ARCH     19\n",
       "SPIC     19\n",
       "ASYM     15\n",
       "MISC     14\n",
       "Name: abnormaility_class, dtype: int64"
      ]
     },
     "execution_count": 53,
     "metadata": {},
     "output_type": "execute_result"
    }
   ],
   "source": [
    "mias_mini['abnormaility_class'].value_counts()"
   ]
  },
  {
   "cell_type": "code",
   "execution_count": 57,
   "metadata": {},
   "outputs": [
    {
     "data": {
      "text/plain": [
       "Index([u'ref_num', u'background_tissue_type', u'abnormaility_class',\n",
       "       u'severity', u'center_x', u'center_y', u'radius'],\n",
       "      dtype='object')"
      ]
     },
     "execution_count": 57,
     "metadata": {},
     "output_type": "execute_result"
    }
   ],
   "source": [
    "mias_mini.columns"
   ]
  },
  {
   "cell_type": "code",
   "execution_count": 64,
   "metadata": {},
   "outputs": [],
   "source": [
    "abnormality = mias_mini['abnormaility_class'].value_counts().keys()"
   ]
  },
  {
   "cell_type": "code",
   "execution_count": 99,
   "metadata": {},
   "outputs": [],
   "source": [
    "mias_mini_train = pd.DataFrame([])\n",
    "mias_mini_test = pd.DataFrame([])"
   ]
  },
  {
   "cell_type": "code",
   "execution_count": 100,
   "metadata": {},
   "outputs": [
    {
     "name": "stdout",
     "output_type": "stream",
     "text": [
      "167 209\n",
      "18 23\n",
      "18 23\n",
      "15 19\n",
      "15 19\n",
      "12 15\n",
      "11 14\n"
     ]
    }
   ],
   "source": [
    "for item in abnormality:\n",
    "    temp = mias_mini[mias_mini['abnormaility_class'] == item]\n",
    "    train_count = int(round(temp.shape[0] * 0.8))\n",
    "    print train_count, temp.shape[0]\n",
    "    mias_mini_train = mias_mini_train.append(temp.head(train_count))\n",
    "    mias_mini_test = mias_mini_test.append(temp.tail(temp.shape[0] - train_count))\n",
    "    \n",
    "    \n",
    "    "
   ]
  },
  {
   "cell_type": "code",
   "execution_count": 101,
   "metadata": {},
   "outputs": [
    {
     "data": {
      "text/plain": [
       "NORM    167\n",
       "CALC     18\n",
       "CIRC     18\n",
       "ARCH     15\n",
       "SPIC     15\n",
       "ASYM     12\n",
       "MISC     11\n",
       "Name: abnormaility_class, dtype: int64"
      ]
     },
     "execution_count": 101,
     "metadata": {},
     "output_type": "execute_result"
    }
   ],
   "source": [
    "mias_mini_train['abnormaility_class'].value_counts()"
   ]
  },
  {
   "cell_type": "code",
   "execution_count": 102,
   "metadata": {},
   "outputs": [
    {
     "data": {
      "text/plain": [
       "NORM    42\n",
       "CALC     5\n",
       "CIRC     5\n",
       "ARCH     4\n",
       "SPIC     4\n",
       "MISC     3\n",
       "ASYM     3\n",
       "Name: abnormaility_class, dtype: int64"
      ]
     },
     "execution_count": 102,
     "metadata": {},
     "output_type": "execute_result"
    }
   ],
   "source": [
    "mias_mini_test['abnormaility_class'].value_counts()"
   ]
  }
 ],
 "metadata": {
  "kernelspec": {
   "display_name": "Python 2",
   "language": "python",
   "name": "python2"
  },
  "language_info": {
   "codemirror_mode": {
    "name": "ipython",
    "version": 2
   },
   "file_extension": ".py",
   "mimetype": "text/x-python",
   "name": "python",
   "nbconvert_exporter": "python",
   "pygments_lexer": "ipython2",
   "version": "2.7.12"
  }
 },
 "nbformat": 4,
 "nbformat_minor": 2
}
