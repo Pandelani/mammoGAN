{
 "cells": [
  {
   "cell_type": "code",
   "execution_count": 1,
   "metadata": {},
   "outputs": [],
   "source": [
    "%matplotlib inline \n",
    "import matplotlib.pyplot as plt\n",
    "import os\n",
    "import cv2\n",
    "import numpy  as np\n",
    "\n",
    "TRAIN_PATH = '/home/jlandesman/data/patches/calcification/train/'\n",
    "TEST_PATH = '/home/jlandesman/data/patches/calcification/test/'\n",
    "\n",
    "NEW_TRAIN_PATH = '/mnt/disks/patches/calcifications/train/'\n",
    "NEW_TEST_PATH = '/mnt/disks/patches/calcifications/test/'"
   ]
  },
  {
   "cell_type": "code",
   "execution_count": 2,
   "metadata": {},
   "outputs": [],
   "source": [
    "def normalize(img):\n",
    "    normalized_img = ((img - np.min(img))/(np.max(img) - np.min(img)))*255\n",
    "    return normalized_img"
   ]
  },
  {
   "cell_type": "code",
   "execution_count": 3,
   "metadata": {},
   "outputs": [],
   "source": [
    "## Read in files\n",
    "no_tumor = os.listdir(TRAIN_PATH + 'no_tumor')\n",
    "benign = os.listdir(TRAIN_PATH + 'benign')\n",
    "benign_no_callback = os.listdir(TRAIN_PATH+'benign_no_callback')\n",
    "malignant = os.listdir(TRAIN_PATH + 'malignant')\n"
   ]
  },
  {
   "cell_type": "code",
   "execution_count": 4,
   "metadata": {},
   "outputs": [],
   "source": [
    "def save_files(IN_PATH, img_type, OUT_PATH, file_type):\n",
    "    counter =  0\n",
    "    errors = 0\n",
    "    files = os.listdir(os.path.join(IN_PATH, img_type))\n",
    "\n",
    "    for number, file in enumerate(files):\n",
    "        \n",
    "        path = IN_PATH + img_type + '/' + file\n",
    "        try:\n",
    "            img = np.load(path)\n",
    "            img = normalize(img)\n",
    "        except:\n",
    "            errors += 1\n",
    "            continue\n",
    "        \n",
    "        if np.mean(img)>1:\n",
    "            out_path = OUT_PATH + file_type +'/' +  img_type + '/'+ file[:-4] + '.png'\n",
    "            cv2.imwrite(out_path, img, [cv2.IMWRITE_PNG_COMPRESSION, 0])\n",
    "            counter += 1\n",
    "        if counter % 1000 == 0:\n",
    "            print(\"files converted: {}, total files: {}\".format(counter, number))\n",
    "    print(\"Done with img_type: {}, file_type {}.  Converted = {}, Errors: {} \".format(img_type, file_type, counter, errors))"
   ]
  },
  {
   "cell_type": "code",
   "execution_count": null,
   "metadata": {},
   "outputs": [
    {
     "name": "stdout",
     "output_type": "stream",
     "text": [
      "files converted: 0, total files: 0\n",
      "files converted: 1000, total files: 1310\n",
      "files converted: 2000, total files: 2561\n",
      "files converted: 3000, total files: 3827\n",
      "files converted: 4000, total files: 5107\n"
     ]
    }
   ],
   "source": [
    "save_files(TRAIN_PATH, 'no_tumor','/mnt/disks/patches/calcifications/', 'train')\n",
    "save_files(TRAIN_PATH, 'benign','/mnt/disks/patches/calcifications/', 'train')\n",
    "save_files(TRAIN_PATH, 'benign_no_callback','/mnt/disks/patches/calcifications/', 'train')\n",
    "save_files(TRAIN_PATH, 'malignant','/mnt/disks/patches/calcifications/', 'train')\n",
    "\n",
    "\n",
    "save_files(TEST_PATH, 'no_tumor','/mnt/disks/patches/calcifications/', 'test')\n",
    "save_files(TEST_PATH, 'benign','/mnt/disks/patches/calcifications/', 'test')\n",
    "save_files(TEST_PATH, 'benign_no_callback','/mnt/disks/patches/calcifications/', 'test')\n",
    "save_files(TEST_PATH, 'malignant','/mnt/disks/patches/calcifications/', 'test')\n"
   ]
  },
  {
   "cell_type": "code",
   "execution_count": null,
   "metadata": {},
   "outputs": [],
   "source": [
    "200000 % 999"
   ]
  },
  {
   "cell_type": "code",
   "execution_count": null,
   "metadata": {},
   "outputs": [],
   "source": [
    "from PIL import Image"
   ]
  },
  {
   "cell_type": "code",
   "execution_count": null,
   "metadata": {},
   "outputs": [],
   "source": [
    "x = Image.open('/home/jlandesman/no_tumor/Calc-Training_P_00008_LEFT_CC_ROTATE_494.png')"
   ]
  },
  {
   "cell_type": "code",
   "execution_count": null,
   "metadata": {},
   "outputs": [],
   "source": [
    "x"
   ]
  },
  {
   "cell_type": "code",
   "execution_count": null,
   "metadata": {},
   "outputs": [],
   "source": []
  },
  {
   "cell_type": "code",
   "execution_count": null,
   "metadata": {},
   "outputs": [],
   "source": []
  }
 ],
 "metadata": {
  "kernelspec": {
   "display_name": "Python 3",
   "language": "python",
   "name": "python3"
  },
  "language_info": {
   "codemirror_mode": {
    "name": "ipython",
    "version": 3
   },
   "file_extension": ".py",
   "mimetype": "text/x-python",
   "name": "python",
   "nbconvert_exporter": "python",
   "pygments_lexer": "ipython3",
   "version": "3.5.2"
  }
 },
 "nbformat": 4,
 "nbformat_minor": 2
}
